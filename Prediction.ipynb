{
 "cells": [
  {
   "cell_type": "code",
   "execution_count": 1,
   "id": "79bafbd5",
   "metadata": {},
   "outputs": [],
   "source": [
    "import pandas as pd\n",
    "import numpy as np\n",
    "from sklearn.preprocessing import MinMaxScaler\n",
    "from keras.models import load_model\n",
    "pd.options.mode.chained_assignment = None\n",
    "\n",
    "stock_data = pd.read_csv('fulldata.csv')\n",
    "stock_data[\"FutureOne\"]= stock_data.Close.shift(-1)\n",
    "stock_data[\"FutureThree\"]= stock_data.Close.shift(-3)\n",
    "stock_data[\"FutureFive\"]= stock_data.Close.shift(-5)\n",
    "modelOne = load_model('FutureOne.h5')\n",
    "modelThree = load_model('FutureThree.h5')\n",
    "modelFive = load_model('FutureFive.h5')"
   ]
  },
  {
   "cell_type": "code",
   "execution_count": 2,
   "id": "24f9a3a1",
   "metadata": {},
   "outputs": [
    {
     "ename": "NameError",
     "evalue": "name 'target' is not defined",
     "output_type": "error",
     "traceback": [
      "\u001b[1;31m---------------------------------------------------------------------------\u001b[0m",
      "\u001b[1;31mNameError\u001b[0m                                 Traceback (most recent call last)",
      "Cell \u001b[1;32mIn[2], line 2\u001b[0m\n\u001b[0;32m      1\u001b[0m features \u001b[38;5;241m=\u001b[39m [\u001b[38;5;124m'\u001b[39m\u001b[38;5;124mTransaction\u001b[39m\u001b[38;5;124m'\u001b[39m,\u001b[38;5;124m'\u001b[39m\u001b[38;5;124mOpen\u001b[39m\u001b[38;5;124m'\u001b[39m, \u001b[38;5;124m'\u001b[39m\u001b[38;5;124mHigh\u001b[39m\u001b[38;5;124m'\u001b[39m, \u001b[38;5;124m'\u001b[39m\u001b[38;5;124mLow\u001b[39m\u001b[38;5;124m'\u001b[39m,\u001b[38;5;124m'\u001b[39m\u001b[38;5;124mClose\u001b[39m\u001b[38;5;124m'\u001b[39m,\u001b[38;5;124m'\u001b[39m\u001b[38;5;124mForeignNet\u001b[39m\u001b[38;5;124m'\u001b[39m,\u001b[38;5;124m'\u001b[39m\u001b[38;5;124mTrustNet\u001b[39m\u001b[38;5;124m'\u001b[39m,\u001b[38;5;124m'\u001b[39m\u001b[38;5;124mDealerNet\u001b[39m\u001b[38;5;124m'\u001b[39m]\n\u001b[1;32m----> 2\u001b[0m df \u001b[38;5;241m=\u001b[39m stock_data[features \u001b[38;5;241m+\u001b[39m \u001b[43mtarget\u001b[49m]\n\u001b[0;32m      3\u001b[0m split \u001b[38;5;241m=\u001b[39m \u001b[38;5;28mint\u001b[39m(df\u001b[38;5;241m.\u001b[39mshape[\u001b[38;5;241m0\u001b[39m] \u001b[38;5;241m*\u001b[39m \u001b[38;5;241m0.8\u001b[39m)\n\u001b[0;32m      4\u001b[0m df_test \u001b[38;5;241m=\u001b[39m df\u001b[38;5;241m.\u001b[39miloc[split:, :]\u001b[38;5;241m.\u001b[39mcopy()\n",
      "\u001b[1;31mNameError\u001b[0m: name 'target' is not defined"
     ]
    }
   ],
   "source": [
    "target = ['FutureOne']\n",
    "features = ['Transaction','Open', 'High', 'Low','Close','ForeignNet','TrustNet','DealerNet']\n",
    "df = stock_data[features + target]\n",
    "split = int(df.shape[0] * 0.8)\n",
    "df_test = df.iloc[split:, :].copy()"
   ]
  },
  {
   "cell_type": "code",
   "execution_count": null,
   "id": "50b4583a",
   "metadata": {},
   "outputs": [],
   "source": [
    "target_scaler = MinMaxScaler().fit(df[target])\n",
    "features_scaler = MinMaxScaler().fit(df[features])\n",
    "df_test[features] = features_scaler.transform(df_test[features])\n",
    "\n",
    "# extract the input sequences and output values\n",
    "sequence_length = 3\n",
    "X_test, y_test = [], []\n",
    "\n",
    "for i in range(sequence_length, df_test.shape[0]):\n",
    "    X_test.append(df_test[features].iloc[i - sequence_length: i])\n",
    "    y_test.append(df_test[target].iloc[i])\n",
    "\n",
    "X_test, y_test = np.array(X_test), np.array(y_test)"
   ]
  },
  {
   "cell_type": "code",
   "execution_count": null,
   "id": "ca1da4b8",
   "metadata": {},
   "outputs": [],
   "source": [
    "y_predOne = modelOne.predict(X_test)\n",
    "y_predOne = target_scaler.inverse_transform(y_predOne)\n",
    "df['PredictedOne'] = np.nan\n",
    "df['PredictedOne'].iloc[- y_predOne.shape[0]:] = y_predOne.flatten()\n",
    "\n",
    "y_predThree = modelThree.predict(X_test)\n",
    "y_predThree = target_scaler.inverse_transform(y_predThree)\n",
    "df['PredictedThree'] = np.nan\n",
    "df['PredictedThree'].iloc[- y_predThree.shape[0]:] = y_predThree.flatten()\n",
    "\n",
    "y_predFive = modelFive.predict(X_test)\n",
    "y_predFive = target_scaler.inverse_transform(y_predFive)\n",
    "df['PredictedFive'] = np.nan\n",
    "df['PredictedFive'].iloc[- y_predFive.shape[0]:] = y_predFive.flatten()\n",
    "\n",
    "res=pd.concat([stock_data['DateTime'],df],axis=1)\n",
    "test=res[['DateTime','Open','Close', 'PredictedOne','PredictedThree','PredictedFive']].dropna().reset_index(drop=True)\n",
    "test"
   ]
  },
  {
   "cell_type": "code",
   "execution_count": null,
   "id": "773ef1d7",
   "metadata": {},
   "outputs": [],
   "source": [
    "plot=test.plot(x='DateTime',y=['Close','PredictedOne'])\n",
    "fig = plot.get_figure()\n",
    "fig.savefig('PredictedOne.png')"
   ]
  },
  {
   "cell_type": "code",
   "execution_count": null,
   "id": "4c265941",
   "metadata": {},
   "outputs": [],
   "source": [
    "plot2=test.plot(x='DateTime',y=['Close','PredictedThree'])\n",
    "fig2 = plot2.get_figure()\n",
    "fig2.savefig('PredictedThree.png')"
   ]
  },
  {
   "cell_type": "code",
   "execution_count": null,
   "id": "f4bbd668",
   "metadata": {},
   "outputs": [],
   "source": [
    "plot3=test.plot(x='DateTime',y=['Close','PredictedFive'])\n",
    "fig3 = plot3.get_figure()\n",
    "fig3.savefig('PredictedFive.png')"
   ]
  },
  {
   "cell_type": "code",
   "execution_count": null,
   "id": "eaf9284e",
   "metadata": {},
   "outputs": [],
   "source": []
  }
 ],
 "metadata": {
  "kernelspec": {
   "display_name": "Python 3 (ipykernel)",
   "language": "python",
   "name": "python3"
  },
  "language_info": {
   "codemirror_mode": {
    "name": "ipython",
    "version": 3
   },
   "file_extension": ".py",
   "mimetype": "text/x-python",
   "name": "python",
   "nbconvert_exporter": "python",
   "pygments_lexer": "ipython3",
   "version": "3.9.15"
  }
 },
 "nbformat": 4,
 "nbformat_minor": 5
}
